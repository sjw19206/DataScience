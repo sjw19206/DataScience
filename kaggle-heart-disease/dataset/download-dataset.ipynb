{
 "cells": [
  {
   "cell_type": "markdown",
   "id": "618f67c1-1913-472a-bae6-95286fbeee65",
   "metadata": {},
   "source": [
    "# kaggle\n",
    "https://www.kaggle.com/datasets/kamilpytlak/personal-key-indicators-of-heart-disease"
   ]
  },
  {
   "cell_type": "code",
   "execution_count": 1,
   "id": "424617e6-49c0-4033-a4fb-801380ec6d4c",
   "metadata": {},
   "outputs": [
    {
     "name": "stdout",
     "output_type": "stream",
     "text": [
      "Downloading personal-key-indicators-of-heart-disease.zip to D:\\Development\\GitHub\\sjw19206\\Dev_Home\\Py_Notebooks\\kaggle-heart-disease\\dataset\n",
      "\n"
     ]
    },
    {
     "name": "stderr",
     "output_type": "stream",
     "text": [
      "\n",
      "  0%|          | 0.00/3.13M [00:00<?, ?B/s]\n",
      " 64%|######3   | 2.00M/3.13M [00:00<00:00, 14.9MB/s]\n",
      "100%|##########| 3.13M/3.13M [00:00<00:00, 16.1MB/s]\n"
     ]
    }
   ],
   "source": [
    "! kaggle datasets download -d kamilpytlak/personal-key-indicators-of-heart-disease"
   ]
  },
  {
   "cell_type": "code",
   "execution_count": 2,
   "id": "13ca0716-340e-4e9b-8882-59402e032ab9",
   "metadata": {},
   "outputs": [
    {
     "name": "stdout",
     "output_type": "stream",
     "text": [
      "File Name                                             Modified             Size\n",
      "heart_2020_cleaned.csv                         2022-02-16 10:18:10     25189554\n",
      "Extracting all the files now...\n",
      "Done!\n"
     ]
    }
   ],
   "source": [
    "# importing required modules\n",
    "from zipfile import ZipFile\n",
    "\n",
    "# specifying the zip file name\n",
    "file_name = \"personal-key-indicators-of-heart-disease.zip\"\n",
    "\n",
    "# opening the zip file in READ mode\n",
    "with ZipFile(file_name, 'r') as zip:\n",
    "\t# printing all the contents of the zip file\n",
    "\tzip.printdir()\n",
    "\n",
    "\t# extracting all the files\n",
    "\tprint('Extracting all the files now...')\n",
    "\tzip.extractall()\n",
    "\tprint('Done!')"
   ]
  }
 ],
 "metadata": {
  "kernelspec": {
   "display_name": "Python 3 (ipykernel)",
   "language": "python",
   "name": "python3"
  },
  "language_info": {
   "codemirror_mode": {
    "name": "ipython",
    "version": 3
   },
   "file_extension": ".py",
   "mimetype": "text/x-python",
   "name": "python",
   "nbconvert_exporter": "python",
   "pygments_lexer": "ipython3",
   "version": "3.10.11"
  }
 },
 "nbformat": 4,
 "nbformat_minor": 5
}
