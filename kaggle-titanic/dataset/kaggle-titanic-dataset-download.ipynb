{
 "cells": [
  {
   "cell_type": "code",
   "execution_count": null,
   "id": "fd249d2f-d7ba-474a-b534-4d284f98d3c0",
   "metadata": {},
   "outputs": [],
   "source": [
    "! kaggle competitions download -c 'titanic'"
   ]
  }
 ],
 "metadata": {
  "kernelspec": {
   "display_name": "Python 3 (ipykernel)",
   "language": "python",
   "name": "python3"
  },
  "language_info": {
   "codemirror_mode": {
    "name": "ipython",
    "version": 3
   },
   "file_extension": ".py",
   "mimetype": "text/x-python",
   "name": "python",
   "nbconvert_exporter": "python",
   "pygments_lexer": "ipython3",
   "version": "3.10.12"
  }
 },
 "nbformat": 4,
 "nbformat_minor": 5
}
