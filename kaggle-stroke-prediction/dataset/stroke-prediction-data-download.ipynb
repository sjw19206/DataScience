{
 "cells": [
  {
   "cell_type": "code",
   "execution_count": 1,
   "id": "15dc82db-145e-4e4c-b1fe-c93f63502879",
   "metadata": {},
   "outputs": [
    {
     "name": "stdout",
     "output_type": "stream",
     "text": [
      "Downloading stroke-prediction-dataset.zip to D:\\Development\\GitHub\\sjw19206\\Dev_Home\\Py_Notebooks\\kaggle-stroke-prediction\\dataset\n",
      "\n"
     ]
    },
    {
     "name": "stderr",
     "output_type": "stream",
     "text": [
      "\n",
      "  0%|          | 0.00/67.4k [00:00<?, ?B/s]\n",
      "100%|##########| 67.4k/67.4k [00:00<?, ?B/s]\n"
     ]
    }
   ],
   "source": [
    "! kaggle datasets download -d fedesoriano/stroke-prediction-dataset"
   ]
  },
  {
   "cell_type": "code",
   "execution_count": 3,
   "id": "7f16c67c-ae43-4566-a235-b28c9b0b4fbf",
   "metadata": {},
   "outputs": [
    {
     "name": "stdout",
     "output_type": "stream",
     "text": [
      "File Name                                             Modified             Size\n",
      "healthcare-dataset-stroke-data.csv             2021-01-26 19:29:30       316971\n",
      "Extracting all the files now...\n",
      "Done!\n"
     ]
    }
   ],
   "source": [
    "# importing required modules\n",
    "from zipfile import ZipFile\n",
    "\n",
    "# specifying the zip file name\n",
    "file_name = \"stroke-prediction-dataset.zip\"\n",
    "\n",
    "# opening the zip file in READ mode\n",
    "with ZipFile(file_name, 'r') as zip:\n",
    "\t# printing all the contents of the zip file\n",
    "\tzip.printdir()\n",
    "\n",
    "\t# extracting all the files\n",
    "\tprint('Extracting all the files now...')\n",
    "\tzip.extractall()\n",
    "\tprint('Done!')"
   ]
  }
 ],
 "metadata": {
  "kernelspec": {
   "display_name": "Python 3 (ipykernel)",
   "language": "python",
   "name": "python3"
  },
  "language_info": {
   "codemirror_mode": {
    "name": "ipython",
    "version": 3
   },
   "file_extension": ".py",
   "mimetype": "text/x-python",
   "name": "python",
   "nbconvert_exporter": "python",
   "pygments_lexer": "ipython3",
   "version": "3.10.11"
  }
 },
 "nbformat": 4,
 "nbformat_minor": 5
}
