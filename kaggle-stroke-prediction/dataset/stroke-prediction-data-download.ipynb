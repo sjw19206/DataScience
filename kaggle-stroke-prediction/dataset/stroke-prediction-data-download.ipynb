{
 "cells": [
  {
   "cell_type": "code",
   "execution_count": null,
   "id": "15dc82db-145e-4e4c-b1fe-c93f63502879",
   "metadata": {
    "tags": []
   },
   "outputs": [],
   "source": [
    "! kaggle datasets download -d fedesoriano/stroke-prediction-dataset"
   ]
  },
  {
   "cell_type": "code",
   "execution_count": null,
   "id": "7f16c67c-ae43-4566-a235-b28c9b0b4fbf",
   "metadata": {},
   "outputs": [],
   "source": [
    "# importing required modules\n",
    "from zipfile import ZipFile\n",
    "\n",
    "# specifying the zip file name\n",
    "file_name = \"stroke-prediction-dataset.zip\"\n",
    "\n",
    "# opening the zip file in READ mode\n",
    "with ZipFile(file_name, 'r') as zip:\n",
    "\t# printing all the contents of the zip file\n",
    "\tzip.printdir()\n",
    "\n",
    "\t# extracting all the files\n",
    "\tprint('Extracting all the files now...')\n",
    "\tzip.extractall()\n",
    "\tprint('Done!')"
   ]
  }
 ],
 "metadata": {
  "kernelspec": {
   "display_name": "Python 3 (ipykernel)",
   "language": "python",
   "name": "python3"
  },
  "language_info": {
   "codemirror_mode": {
    "name": "ipython",
    "version": 3
   },
   "file_extension": ".py",
   "mimetype": "text/x-python",
   "name": "python",
   "nbconvert_exporter": "python",
   "pygments_lexer": "ipython3",
   "version": "3.10.12"
  }
 },
 "nbformat": 4,
 "nbformat_minor": 5
}
