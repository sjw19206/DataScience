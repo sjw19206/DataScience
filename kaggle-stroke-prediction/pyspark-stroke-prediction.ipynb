{
 "cells": [
  {
   "cell_type": "markdown",
   "id": "84667b1e-ada0-4651-b794-f5e9e2a24e89",
   "metadata": {},
   "source": [
    "Stroke Prediction - Kaggle\n",
    "https://www.kaggle.com/datasets/fedesoriano/stroke-prediction-dataset"
   ]
  },
  {
   "cell_type": "code",
   "execution_count": null,
   "id": "5296842a-52ad-43b7-bdd7-c2d48bac68e6",
   "metadata": {},
   "outputs": [],
   "source": [
    "from pyspark.sql import SparkSession\n",
    "from pyspark.sql.functions import regexp_replace\n",
    "from pyspark.ml import Pipeline\n",
    "from pyspark.ml.feature import StringIndexer, VectorAssembler, Imputer, VectorIndexer, MinMaxScaler\n",
    "from pyspark.ml.classification import DecisionTreeClassifier\n",
    "from pyspark.ml.evaluation import MulticlassClassificationEvaluator\n",
    "from pyspark.ml.linalg import Vectors"
   ]
  },
  {
   "cell_type": "code",
   "execution_count": null,
   "id": "c46d2997-c78c-42ff-a88b-ada1710bae29",
   "metadata": {},
   "outputs": [],
   "source": [
    "spark = SparkSession.builder.appName('Stroke Prediction').getOrCreate()"
   ]
  },
  {
   "cell_type": "code",
   "execution_count": null,
   "id": "7ab661bc-7076-416f-bc4a-a0d4e16633c0",
   "metadata": {},
   "outputs": [],
   "source": [
    "stroke_ds = spark.read.csv('./dataset/healthcare-dataset-stroke-data.csv', header=True, inferSchema = True)"
   ]
  },
  {
   "cell_type": "code",
   "execution_count": null,
   "id": "53dd0769-bf7b-431b-a596-71cb618cca13",
   "metadata": {},
   "outputs": [],
   "source": [
    "stroke_ds = stroke_ds.sampleBy(\"stroke\", fractions={0:0.0535, 1:1}, seed=1234)"
   ]
  },
  {
   "cell_type": "code",
   "execution_count": null,
   "id": "77cec3b8-8295-423d-b747-f462fe0bcc4c",
   "metadata": {},
   "outputs": [],
   "source": [
    "stroke_ds.show(1, vertical=True)"
   ]
  },
  {
   "cell_type": "code",
   "execution_count": null,
   "id": "ec9597a2-77a3-48dc-a3f3-872961e6cd5b",
   "metadata": {},
   "outputs": [],
   "source": [
    "stroke_ds.printSchema()"
   ]
  },
  {
   "cell_type": "code",
   "execution_count": null,
   "id": "ea111178-8ef5-435c-a76c-00bcc4c2ee63",
   "metadata": {},
   "outputs": [],
   "source": [
    "stroke_ds.filter(stroke_ds.gender == 'Male').count()"
   ]
  },
  {
   "cell_type": "code",
   "execution_count": null,
   "id": "56c23fe5-b770-4d97-89ca-33d597046c23",
   "metadata": {},
   "outputs": [],
   "source": [
    "stroke_ds.filter(stroke_ds.gender == 'Female').count()"
   ]
  },
  {
   "cell_type": "code",
   "execution_count": null,
   "id": "c39cf1e8-3326-4822-87a4-774a26ed67e1",
   "metadata": {},
   "outputs": [],
   "source": [
    "stroke_ds.filter(stroke_ds.stroke == 1).count()"
   ]
  },
  {
   "cell_type": "code",
   "execution_count": null,
   "id": "7dfec602-0f2a-482a-a4f0-d4325cb2f187",
   "metadata": {},
   "outputs": [],
   "source": [
    "stroke_ds.filter(stroke_ds.stroke == 0).count()"
   ]
  },
  {
   "cell_type": "code",
   "execution_count": null,
   "id": "e67371ca-f6df-4547-9bf5-0168625950f4",
   "metadata": {},
   "outputs": [],
   "source": [
    "# null empty check\n",
    "from pyspark.sql.functions import isnan, when, count, col\n",
    "stroke_ds.select([count(when(isnan(c), c)).alias(c) for c in stroke_ds.columns]).show(vertical=True)"
   ]
  },
  {
   "cell_type": "code",
   "execution_count": null,
   "id": "30150637-0aa2-4648-9232-95027b02cd02",
   "metadata": {},
   "outputs": [],
   "source": [
    "stroke_ds.select([count(when(isnan(c) | col(c).isNull(), c)).alias(c) for c in stroke_ds.columns]).show()"
   ]
  },
  {
   "cell_type": "code",
   "execution_count": null,
   "id": "7bf4215f-c846-487f-b797-c90cc8d66466",
   "metadata": {},
   "outputs": [],
   "source": [
    "stroke_ds.filter(stroke_ds.bmi == 'N/A').count()"
   ]
  },
  {
   "cell_type": "code",
   "execution_count": null,
   "id": "3e83e5cf-9bdb-435a-91c6-b51d0bfc1c7f",
   "metadata": {},
   "outputs": [],
   "source": [
    "#Replace part of string with another string\n",
    "stroke_ds = stroke_ds.withColumn('bmi', regexp_replace('bmi', 'N/A', ''))"
   ]
  },
  {
   "cell_type": "code",
   "execution_count": null,
   "id": "cc491068-d745-42eb-84a5-a37089d63eb8",
   "metadata": {},
   "outputs": [],
   "source": [
    "stroke_ds = stroke_ds.withColumn(\"bmi\", stroke_ds.bmi.cast(\"int\"))"
   ]
  },
  {
   "cell_type": "code",
   "execution_count": null,
   "id": "730f5b3c-fe7c-4a35-847b-f2b4e15f842e",
   "metadata": {},
   "outputs": [],
   "source": [
    "bmiImputer = Imputer(inputCols=[\"bmi\"], outputCols=[\"{}_imputed\".format(c) for c in [\"bmi\"]]).setStrategy('mean') \n",
    "stroke_ds_mod = bmiImputer.fit(stroke_ds).transform(stroke_ds)"
   ]
  },
  {
   "cell_type": "code",
   "execution_count": null,
   "id": "7441cce1-a944-4ccd-9293-63b2e3b347c3",
   "metadata": {},
   "outputs": [],
   "source": [
    "stroke_ds_mod = stroke_ds_mod.drop('bmi', 'id')"
   ]
  },
  {
   "cell_type": "code",
   "execution_count": null,
   "id": "21d5c911-9ca4-435e-a499-870c2488d34c",
   "metadata": {},
   "outputs": [],
   "source": [
    "stroke_ds_mod.show(3, vertical=True)"
   ]
  },
  {
   "cell_type": "code",
   "execution_count": null,
   "id": "d74ab362-cbe6-4e55-bb48-3c7001775181",
   "metadata": {},
   "outputs": [],
   "source": [
    "vectorAssembler_age = VectorAssembler(inputCols= ['age'], outputCol='age_v') \n",
    "stroke_ds_mod = vectorAssembler_age.transform(stroke_ds_mod)\n",
    "scale_age = MinMaxScaler(inputCol='age_v', outputCol='age_scaled')\n",
    "stroke_ds_mod = scale_age.fit(stroke_ds_mod).transform(stroke_ds_mod)"
   ]
  },
  {
   "cell_type": "code",
   "execution_count": null,
   "id": "080ae5d3-c494-4d51-a1bb-833d3926fc3a",
   "metadata": {},
   "outputs": [],
   "source": [
    "vectorAssembler_bmi = VectorAssembler(inputCols= ['bmi_imputed'], outputCol='bmi_v') \n",
    "stroke_ds_mod = vectorAssembler_bmi.transform(stroke_ds_mod)\n",
    "scale_bmi = MinMaxScaler(inputCol='bmi_v', outputCol='bmi_scaled')\n",
    "stroke_ds_mod = scale_bmi.fit(stroke_ds_mod).transform(stroke_ds_mod)"
   ]
  },
  {
   "cell_type": "code",
   "execution_count": null,
   "id": "503ba325-21e7-478f-9732-1035c735829f",
   "metadata": {},
   "outputs": [],
   "source": [
    "vectorAssembler_glu = VectorAssembler(inputCols= ['avg_glucose_level'], outputCol='glu_v') \n",
    "stroke_ds_mod = vectorAssembler_glu.transform(stroke_ds_mod)\n",
    "scale_glu = MinMaxScaler(inputCol='glu_v', outputCol='glu_scaled')\n",
    "stroke_ds_mod = scale_glu.fit(stroke_ds_mod).transform(stroke_ds_mod)"
   ]
  },
  {
   "cell_type": "code",
   "execution_count": null,
   "id": "2318f677-c9d8-4e56-92f8-d2a0fc2e534d",
   "metadata": {},
   "outputs": [],
   "source": [
    "stroke_ds_mod.show(1, vertical=True)"
   ]
  },
  {
   "cell_type": "code",
   "execution_count": null,
   "id": "d97ad789-9bb9-4c33-8486-ab5463e53fcc",
   "metadata": {},
   "outputs": [],
   "source": [
    "strIndexer = StringIndexer(inputCols=['gender', 'smoking_status', 'Residence_type', 'work_type', 'ever_married'], \n",
    "outputCols=['gender_idx', 'smoking', 'residence', 'work', 'married']) "
   ]
  },
  {
   "cell_type": "code",
   "execution_count": null,
   "id": "0bda7f2c-02f9-41e9-be77-5fb3210b0cc2",
   "metadata": {},
   "outputs": [],
   "source": [
    "stroke_ds_transform = strIndexer.fit(stroke_ds_mod).transform(stroke_ds_mod)"
   ]
  },
  {
   "cell_type": "code",
   "execution_count": null,
   "id": "d15b2173-c804-417f-9a23-5afff1818b0c",
   "metadata": {},
   "outputs": [],
   "source": [
    "stroke_ds_transform.printSchema()"
   ]
  },
  {
   "cell_type": "code",
   "execution_count": null,
   "id": "d4c0a2aa-0ced-4dfc-861f-64f359743a1c",
   "metadata": {},
   "outputs": [],
   "source": [
    "stroke_ds_transform.show(1, vertical=True)"
   ]
  },
  {
   "cell_type": "code",
   "execution_count": null,
   "id": "32e11142-5ca8-4f7b-ad37-eac167bc2dfa",
   "metadata": {},
   "outputs": [],
   "source": [
    "stroke_ds_transform = stroke_ds_transform.withColumnRenamed(\"stroke\",\"label\")"
   ]
  },
  {
   "cell_type": "code",
   "execution_count": null,
   "id": "63222e21-9ed0-424b-ba22-48d3a25a8a12",
   "metadata": {},
   "outputs": [],
   "source": [
    "vectorAssembler = VectorAssembler(inputCols= ['hypertension', 'heart_disease', 'glu_scaled', \n",
    "                                             'smoking', 'bmi_scaled', 'age_scaled', 'gender_idx', \n",
    "                                             'work', 'residence', 'married'], \n",
    "                                  outputCol='features') "
   ]
  },
  {
   "cell_type": "code",
   "execution_count": null,
   "id": "fd76f79a-22d3-443a-8c46-3b8b2b869504",
   "metadata": {},
   "outputs": [],
   "source": [
    "vector_stroke_data = vectorAssembler.transform(stroke_ds_transform) \n",
    "stroke_data_final = vector_stroke_data.select([\"features\",\"label\"]) "
   ]
  },
  {
   "cell_type": "code",
   "execution_count": null,
   "id": "549fabd2-98c7-41aa-9c00-2346ca1c1d24",
   "metadata": {},
   "outputs": [],
   "source": [
    "stroke_data_final.show(5, vertical=True)"
   ]
  },
  {
   "cell_type": "code",
   "execution_count": null,
   "id": "98817a11-9abb-4add-aa36-9a33c2da4c73",
   "metadata": {},
   "outputs": [],
   "source": [
    "labelIndexer = StringIndexer(inputCol=\"label\", outputCol=\"indexedLabel\").fit(stroke_data_final) \n",
    "featureIndexer = VectorIndexer(inputCol=\"features\", outputCol=\"indexedFeatures\", maxCategories=4).fit(stroke_data_final) \n",
    "(trainingData, testData) = stroke_data_final.randomSplit([0.6, 0.4]) \n",
    "dt = DecisionTreeClassifier(labelCol=\"indexedLabel\", featuresCol=\"indexedFeatures\",  maxDepth=5) \n",
    "pipeline = Pipeline(stages=[labelIndexer, featureIndexer, dt])  "
   ]
  },
  {
   "cell_type": "code",
   "execution_count": null,
   "id": "f4381181-7c3c-4bc5-9bd3-35b70b4726a0",
   "metadata": {},
   "outputs": [],
   "source": [
    "model = pipeline.fit(trainingData) "
   ]
  },
  {
   "cell_type": "code",
   "execution_count": null,
   "id": "02ea7d5d-c833-4541-bb77-55f25f2c48eb",
   "metadata": {},
   "outputs": [],
   "source": [
    "predictions = model.transform(testData)"
   ]
  },
  {
   "cell_type": "code",
   "execution_count": null,
   "id": "ec3a9a20-8287-4603-a9c3-803d726cf2a8",
   "metadata": {},
   "outputs": [],
   "source": [
    "predictions.select(\"prediction\", \"indexedLabel\", \"features\").show(5)"
   ]
  },
  {
   "cell_type": "code",
   "execution_count": null,
   "id": "e7251407-8d13-4eef-a96a-637fbbfbe440",
   "metadata": {},
   "outputs": [],
   "source": [
    "evaluator = MulticlassClassificationEvaluator(\n",
    "    labelCol=\"indexedLabel\", predictionCol=\"prediction\", metricName=\"accuracy\")\n",
    "accuracy = evaluator.evaluate(predictions)\n",
    "print(\"Test Error = %g \" % (1.0 - accuracy))"
   ]
  },
  {
   "cell_type": "code",
   "execution_count": null,
   "id": "158fa89b-e648-4d68-b29a-1251f9c78867",
   "metadata": {},
   "outputs": [],
   "source": [
    "treeModel = model.stages[2]\n",
    "# summary only\n",
    "print(treeModel)"
   ]
  },
  {
   "cell_type": "code",
   "execution_count": null,
   "id": "8c69b575-ab93-478b-92f1-d0517e552c1e",
   "metadata": {},
   "outputs": [],
   "source": []
  },
  {
   "cell_type": "code",
   "execution_count": null,
   "id": "a64a7f73-06fa-4b11-8256-6b3a6b4652d7",
   "metadata": {},
   "outputs": [],
   "source": []
  },
  {
   "cell_type": "code",
   "execution_count": null,
   "id": "4cbedf66-39b6-4da8-926a-9b68c5416c12",
   "metadata": {},
   "outputs": [],
   "source": []
  },
  {
   "cell_type": "code",
   "execution_count": null,
   "id": "0e611d17-8abc-4fb1-8e68-320e85ce7024",
   "metadata": {},
   "outputs": [],
   "source": []
  },
  {
   "cell_type": "code",
   "execution_count": null,
   "id": "a968f932-9890-4112-9afe-33cfa2c5f156",
   "metadata": {},
   "outputs": [],
   "source": []
  },
  {
   "cell_type": "code",
   "execution_count": null,
   "id": "35a194cb-9c54-4b20-9ccc-ea384bef7c38",
   "metadata": {},
   "outputs": [],
   "source": []
  },
  {
   "cell_type": "code",
   "execution_count": null,
   "id": "95501653-b574-418a-b641-2491349343d2",
   "metadata": {},
   "outputs": [],
   "source": []
  },
  {
   "cell_type": "code",
   "execution_count": null,
   "id": "b9c0c22b-6b6b-4dd3-bba3-1cb6705a0961",
   "metadata": {},
   "outputs": [],
   "source": []
  },
  {
   "cell_type": "code",
   "execution_count": null,
   "id": "7e83da5c-cabf-41e4-8340-e97915520ea2",
   "metadata": {},
   "outputs": [],
   "source": []
  },
  {
   "cell_type": "code",
   "execution_count": null,
   "id": "dfdd069c-e226-4e8a-bedb-00d79f451a14",
   "metadata": {},
   "outputs": [],
   "source": []
  },
  {
   "cell_type": "code",
   "execution_count": null,
   "id": "089373ac-b1d6-4ec9-9699-b0026d73a0c2",
   "metadata": {},
   "outputs": [],
   "source": []
  },
  {
   "cell_type": "code",
   "execution_count": null,
   "id": "258c6331-fe1f-452c-bd28-7b8db71e28c5",
   "metadata": {},
   "outputs": [],
   "source": []
  },
  {
   "cell_type": "code",
   "execution_count": null,
   "id": "802a9f69-3edc-43a8-8534-760fad54509b",
   "metadata": {},
   "outputs": [],
   "source": []
  },
  {
   "cell_type": "code",
   "execution_count": null,
   "id": "c47dd0ea-6fda-4ed2-a648-3bb27e30ac16",
   "metadata": {},
   "outputs": [],
   "source": []
  },
  {
   "cell_type": "code",
   "execution_count": null,
   "id": "b5dfca4a-8ac3-4727-a2b2-8d2f9d16f0e9",
   "metadata": {},
   "outputs": [],
   "source": []
  },
  {
   "cell_type": "code",
   "execution_count": null,
   "id": "3ddd3fe7-7347-425d-ad64-52675727f506",
   "metadata": {},
   "outputs": [],
   "source": []
  },
  {
   "cell_type": "code",
   "execution_count": null,
   "id": "6083f06c-bb9c-448b-a954-83e2f8ed9b9b",
   "metadata": {},
   "outputs": [],
   "source": []
  }
 ],
 "metadata": {
  "kernelspec": {
   "display_name": "Python 3 (ipykernel)",
   "language": "python",
   "name": "python3"
  },
  "language_info": {
   "codemirror_mode": {
    "name": "ipython",
    "version": 3
   },
   "file_extension": ".py",
   "mimetype": "text/x-python",
   "name": "python",
   "nbconvert_exporter": "python",
   "pygments_lexer": "ipython3",
   "version": "3.10.12"
  }
 },
 "nbformat": 4,
 "nbformat_minor": 5
}
